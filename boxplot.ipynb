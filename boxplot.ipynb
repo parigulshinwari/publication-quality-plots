{
 "cells": [
  {
   "cell_type": "markdown",
   "metadata": {},
   "source": [
    "# Creating a publication-quality boxplot (notebook)\n",
    "\n",
    "For a more complete tutorial, please check: https://github.com/jbmouret/matplotlib_for_papers\n",
    "\n",
    "**Objective:** Learn how to compare experimentally two stochastic algorithms (i.e., machine learning algorithms) and produce a figure for a scientific paper\n",
    "\n",
    "*This tutorial relies on Python and the Matplotlib library* (not Matlab)\n",
    "\n",
    "\n",
    "## Example of better vizualization\n",
    "\n",
    "![Modularity boxplot](figs/example1_boxplot.png)\n",
    "\n",
    "From: Clune*, Jeff, Jean-Baptiste Mouret*, and Hod Lipson. \"The evolutionary origins of modularity.\" Proceedings of the Royal Society B: Biological sciences 280.1755 (2013): 20122863 [*: equal contribution].\n",
    "\n",
    "\n",
    "## Use case for Box plot\n",
    "\n",
    "You want to know if \"treatment\" (algorithm) 'A' performs better than treatment 'B'. Since your algorithm is stochastic, you have run replicates (at least 20!) to be sure that one treatment has not been lucky/unlucky, and you want statistically significant results.\n",
    "\n",
    "Other use case: you measure some data (e.g., time to achieve a task) with 20 different user (user study), and you want to know if one approach works better than the other.\n",
    "\n",
    "### Goal:\n",
    "\n",
    "- Display the median and the quartiles\n",
    "- Do not assume that your data are Gaussian (contrary to bars + error bars)\n",
    "\n",
    "See: http://en.wikipedia.org/wiki/Box_plot\n",
    "\n",
    "<img src=\"figs/wikipedia_boxplot.png\" width=\"40%\"/>\n",
    "\n",
    "\n",
    "\n",
    "\n",
    "- Each box extends from the lower to upper quartile values of the data, with a symbol at the median.\n",
    "- Whiskers extend to the most extreme data point within 1.5 * IQR, where IQR is the Inter Quartile Range.\n",
    "- Flier points (outliers) are those past the end of the whiskers.\n",
    "\n",
    "### Median vs mean\n",
    "\n",
    "Using the mean + standard deviation assumes that your data are *normally distributed*. This assumption is usually wrong in \"experimental\" computer science. For instance, your algorithm may fail 30% of the time (performance = 0) and succeed 70% of the time (performance = 1): you have two peaks and the distribution is not Gaussian at all. In addition, the standard deviation assumes that the distribution is symmetric, which is clearly not the case when there is a maximum that cannot be exceeded.\n",
    "\n",
    " **You should always use the median and the 25% / 75% percentiles, unless you have good reason to think that your data are normally distributed**.\n",
    "\n",
    "\n",
    "## Basics: our first boxplot\n"
   ]
  },
  {
   "cell_type": "code",
   "execution_count": 3,
   "metadata": {},
   "outputs": [
    {
     "name": "stdout",
     "output_type": "stream",
     "text": [
      "Requirement already satisfied: matplotlib in /Users/jmouret/mambaforge/lib/python3.9/site-packages (3.6.2)\n",
      "Requirement already satisfied: cycler>=0.10 in /Users/jmouret/mambaforge/lib/python3.9/site-packages (from matplotlib) (0.11.0)\n",
      "Requirement already satisfied: kiwisolver>=1.0.1 in /Users/jmouret/mambaforge/lib/python3.9/site-packages (from matplotlib) (1.4.4)\n",
      "Requirement already satisfied: numpy>=1.19 in /Users/jmouret/mambaforge/lib/python3.9/site-packages (from matplotlib) (1.23.1)\n",
      "Requirement already satisfied: packaging>=20.0 in /Users/jmouret/mambaforge/lib/python3.9/site-packages (from matplotlib) (21.3)\n",
      "Requirement already satisfied: pillow>=6.2.0 in /Users/jmouret/mambaforge/lib/python3.9/site-packages (from matplotlib) (8.4.0)\n",
      "Requirement already satisfied: pyparsing>=2.2.1 in /Users/jmouret/mambaforge/lib/python3.9/site-packages (from matplotlib) (3.0.9)\n",
      "Requirement already satisfied: python-dateutil>=2.7 in /Users/jmouret/mambaforge/lib/python3.9/site-packages (from matplotlib) (2.8.2)\n",
      "Requirement already satisfied: fonttools>=4.22.0 in /Users/jmouret/mambaforge/lib/python3.9/site-packages (from matplotlib) (4.38.0)\n",
      "Requirement already satisfied: contourpy>=1.0.1 in /Users/jmouret/mambaforge/lib/python3.9/site-packages (from matplotlib) (1.0.6)\n",
      "Requirement already satisfied: six>=1.5 in /Users/jmouret/mambaforge/lib/python3.9/site-packages (from python-dateutil>=2.7->matplotlib) (1.16.0)\n"
     ]
    }
   ],
   "source": [
    "# first we need to install matplotlib\n",
    "# this runs a shell command in a notebook\n",
    "!pip install matplotlib"
   ]
  },
  {
   "cell_type": "markdown",
   "metadata": {},
   "source": [
    "### Data\n",
    "We assume that the data for each treatment is organized in a in text file (e.g., a CSV), with one file for each result\n",
    "\n",
    "**File1:**\n",
    "||\n",
    "|---|\n",
    "|0.1|\n",
    "|0.24|\n",
    "|...|\n",
    "\n",
    "**File2:**\n",
    "||\n",
    "|---|\n",
    "|0.13|\n",
    "|0.11|\n",
    "|...|\n"
   ]
  },
  {
   "cell_type": "code",
   "execution_count": 7,
   "metadata": {},
   "outputs": [],
   "source": [
    "import numpy as np\n",
    "\n",
    "# np.loadtxt loads a file as a numpy array\n",
    "data_a = np.loadtxt('src/data_boxplot/a.txt')\n",
    "data_b = np.loadtxt('src/data_boxplot/b.txt')\n",
    "\n",
    "# here we have a single column\n",
    "# for csv (comma separated values), you can use: np.loadtxt('src/data_boxplot/a.txt', delimiter=',')\n"
   ]
  },
  {
   "cell_type": "code",
   "execution_count": 10,
   "metadata": {},
   "outputs": [
    {
     "data": {
      "image/png": "[encoded data removed]",
      "text/plain": [
       "<Figure size 720x360 with 1 Axes>"
      ]
     },
     "metadata": {
      "needs_background": "light"
     },
     "output_type": "display_data"
    }
   ],
   "source": [
    "import matplotlib.pyplot as plt\n",
    "\n",
    "fig = plt.figure(figsize=(10, 5))\n",
    "ax = fig.add_subplot(1,1,1)\n",
    "ax.boxplot([data_a, data_b])\n",
    "\n",
    "fig.savefig('fig.pdf') # we create a PDF file for inclusion in a paper (vector format)"
   ]
  },
  {
   "cell_type": "markdown",
   "metadata": {},
   "source": [
    "### Storing figures: Vector format versus bitmap format\n",
    "\n",
    "- Vector formats (pdf, svg, eps): store the coordinates of graphic objects (e.g., lines, circles)\n",
    "\n",
    "\n",
    "<img src=\"https://dev.w3.org/SVG/tools/svgweb/samples/svg-files/atom.svg\" alt=\"svf\" style=\"width: 240px;\"/>\n",
    "\n",
    "\n",
    "```svg\n",
    "<svg xmlns=\"http://www.w3.org/2000/svg\" viewBox=\"-52 -53 100 100\" stroke-width=\"2\">\n",
    " <g fill=\"none\">\n",
    "  <ellipse stroke=\"#66899a\" rx=\"6\" ry=\"44\"/>\n",
    "  <ellipse stroke=\"#e1d85d\" rx=\"6\" ry=\"44\" transform=\"rotate(-66)\"/>\n",
    "  <ellipse stroke=\"#80a3cf\" rx=\"6\" ry=\"44\" transform=\"rotate(66)\"/>\n",
    "  <circle stroke=\"#4b541f\" r=\"44\"/>\n",
    " </g>\n",
    " ...\n",
    "</svg>\n",
    "```\n",
    "- Bitmap formats (png, jpg, bmp, ...): store the pixels (for jpg: lossy compression; for png: lossless compression)\n",
    "```\n",
    "P1\n",
    "# feep.pbm\n",
    "24 7\n",
    "0 0 0 0 0 0 0 0 0 0 0 0 0 0 0 0 0 0 0 0 0 0 0 0\n",
    "0 1 1 1 1 0 0 1 1 1 1 0 0 1 1 1 1 0 0 1 1 1 1 0\n",
    "0 1 0 0 0 0 0 1 0 0 0 0 0 1 0 0 0 0 0 1 0 0 1 0\n",
    "0 1 1 1 0 0 0 1 1 1 0 0 0 1 1 1 0 0 0 1 1 1 1 0\n",
    "0 1 0 0 0 0 0 1 0 0 0 0 0 1 0 0 0 0 0 1 0 0 0 0\n",
    "0 1 0 0 0 0 0 1 1 1 1 0 0 1 1 1 1 0 0 1 0 0 0 0\n",
    "0 0 0 0 0 0 0 0 0 0 0 0 0 0 0 0 0 0 0 0 0 0 0 0\n",
    "```\n",
    "\n",
    "- **Vector formats are more appropriate for plots (except with millions of points):**\n",
    "  - they are often smaller\n",
    "  - you can zoom without ever \"see the pixels\"\n",
    "  \n"
   ]
  },
  {
   "cell_type": "markdown",
   "metadata": {},
   "source": [
    "# How to make this figure better?\n",
    "\n",
    "<img src=\"figs/tufte_book_cover.png\" width=\"200px\" align=\"left\" hspace=\"30\" vspace=\"5\">\n",
    "\n",
    "Probably the most influential book about data vizualization:\n",
    "\n",
    "Tufte, Edward R. *The visual display of quantitative information.*, 2nd edition, Cheshire, CT: Graphics press, 2001.\n",
    "\n",
    "**Main principle:** maximize the data / ink ratio. In other words, minimize the visual clutter, or remove everything that is not useful to understand the data.\n",
    "\n",
    "Example of bad vizualizations:\n",
    " - http://joeloughton.com/blog/wp-content/uploads/2011/04/chart13.gif [from: http://joeloughton.com/blog/]\n",
    " - http://www.forbes.com/sites/naomirobbins/2012/05/30/winner-of-the-bad-graph-contest-announced-2/\n",
    "\n",
    "Examples of a better vizualization (according to Tufte):\n",
    " - http://www.edwardtufte.com/bboard/q-and-a-fetch-msg?msg_id=00014g\n",
    " - http://joeloughton.com/blog/visualisations/tufte-bar-chart-redesign-in-jquery-flot/\n",
    " - http://blog.revolutionanalytics.com/2010/03/white-house-taps-edward-tufte-to-explain-the-stimulus.html\n",
    "\n",
    "<center><img src=\"https://miro.medium.com/max/1400/1*_2SEqWI_sS3lleOgjUhiwQ.webp\" width=\"50%\"></center>\n",
    "\n",
    "\n"
   ]
  },
  {
   "cell_type": "code",
   "execution_count": 19,
   "metadata": {},
   "outputs": [
    {
     "data": {
      "image/png": "[encoded data removed]",
      "text/plain": [
       "<Figure size 720x360 with 1 Axes>"
      ]
     },
     "metadata": {
      "needs_background": "light"
     },
     "output_type": "display_data"
    }
   ],
   "source": [
    "# As a rule of thumb, the font size of your labels should be close to the font size of the figure's caption.\n",
    "\n",
    "# It is also a good idea to increase the linewidths, to be able to make the figure small:\n",
    "import matplotlib as mpl\n",
    "\n",
    "params = {\n",
    "'axes.labelsize': 16,\n",
    "'legend.fontsize': 16,\n",
    "'xtick.labelsize': 16,\n",
    "'ytick.labelsize': 16,\n",
    "}\n",
    "mpl.rcParams.update(params)\n",
    "\n",
    "\n",
    "fig = plt.figure(figsize=(10, 5))\n",
    "ax = fig.add_subplot(1,1,1)\n",
    "bp = ax.boxplot([data_a, data_b])\n",
    "\n"
   ]
  },
  {
   "cell_type": "code",
   "execution_count": 22,
   "metadata": {},
   "outputs": [
    {
     "data": {
      "image/png": "[encoded data removed]",
      "text/plain": [
       "<Figure size 720x360 with 1 Axes>"
      ]
     },
     "metadata": {
      "needs_background": "light"
     },
     "output_type": "display_data"
    }
   ],
   "source": [
    "import matplotlib as mpl\n",
    "\n",
    "params = {\n",
    "'axes.labelsize': 16,\n",
    "'legend.fontsize': 16,\n",
    "'xtick.labelsize': 16,\n",
    "'ytick.labelsize': 16,\n",
    "}\n",
    "mpl.rcParams.update(params)\n",
    "\n",
    "\n",
    "fig = plt.figure(figsize=(10, 5))\n",
    "ax = fig.add_subplot(1,1,1)\n",
    "bp = ax.boxplot([data_a, data_b])\n",
    "\n",
    "# remove the frames \n",
    "ax.spines['top'].set_visible(False)\n",
    "ax.spines['right'].set_visible(False)\n",
    "ax.spines['left'].set_visible(False)\n",
    "ax.get_xaxis().tick_bottom()\n",
    "ax.get_yaxis().tick_left()\n",
    "ax.tick_params(axis='x', direction='out')\n",
    "ax.tick_params(axis='y', length=0)\n",
    "\n",
    "# add a grid\n",
    "\n",
    "ax.grid(axis='y', color=\"0.9\", linestyle='-', linewidth=1)\n",
    "ax.set_axisbelow(True)"
   ]
  },
  {
   "cell_type": "markdown",
   "metadata": {},
   "source": [
    "### Adding color..."
   ]
  },
  {
   "cell_type": "code",
   "execution_count": null,
   "metadata": {},
   "outputs": [],
   "source": [
    "\n",
    " from palettable.colorbrewer.qualitative import Set2_7\n",
    " colors = Set2_7.mpl_colors\n"
   ]
  },
  {
   "cell_type": "code",
   "execution_count": 42,
   "metadata": {},
   "outputs": [
    {
     "data": {
      "text/plain": [
       "[Text(1, 0, 'A'), Text(2, 0, 'B')]"
      ]
     },
     "execution_count": 42,
     "metadata": {},
     "output_type": "execute_result"
    },
    {
     "data": {
      "image/png": "[encoded data removed]",
      "text/plain": [
       "<Figure size 432x288 with 1 Axes>"
      ]
     },
     "metadata": {
      "needs_background": "light"
     },
     "output_type": "display_data"
    }
   ],
   "source": [
    "import matplotlib as mpl\n",
    "\n",
    "\n",
    "from palettable.colorbrewer.qualitative import Set2_7\n",
    "colors = Set2_7.mpl_colors\n",
    "\n",
    "params = {\n",
    "'axes.labelsize': 16,\n",
    "'legend.fontsize': 16,\n",
    "'xtick.labelsize': 16,\n",
    "'ytick.labelsize': 16,\n",
    "}\n",
    "mpl.rcParams.update(params)\n",
    "\n",
    "\n",
    "fig = plt.figure(figsize=(6, 4))\n",
    "ax = fig.add_subplot(1,1,1)\n",
    "bp = ax.boxplot([data_a, data_b], patch_artist=True)\n",
    "\n",
    "# remove the frames \n",
    "ax.spines['top'].set_visible(False)\n",
    "ax.spines['right'].set_visible(False)\n",
    "ax.spines['left'].set_visible(False)\n",
    "ax.spines['bottom'].set_linewidth(2)\n",
    "#ax.spines['bottom'].set_visible(False)\n",
    "\n",
    "ax.get_xaxis().tick_bottom()\n",
    "ax.get_yaxis().tick_left()\n",
    "ax.tick_params(axis='x', length=0)\n",
    "ax.tick_params(axis='y', length=0)\n",
    "\n",
    "# add a grid\n",
    "\n",
    "ax.grid(axis='y', color=\"0.9\", linestyle='-', linewidth=1)\n",
    "ax.set_axisbelow(True)\n",
    "\n",
    "c=colors[0]\n",
    "for w in bp['whiskers']:\n",
    "    w.set_color(c)\n",
    "    w.set_linewidth(3)\n",
    "for patch in bp['boxes']:\n",
    "    patch.set_facecolor(c)\n",
    "    patch.set_color(c)\n",
    "for median in bp['medians']:\n",
    "    median.set(color ='black',\n",
    "                linewidth = 2)\n",
    "\n",
    "ax.set_xticklabels(['A', 'B'])\n",
    "#ax.xaxis.set_tick_params(fontproperties=)\n",
    "\n"
   ]
  },
  {
   "cell_type": "markdown",
   "metadata": {},
   "source": []
  },
  {
   "cell_type": "markdown",
   "metadata": {},
   "source": [
    "## Adding the stars for statistical significance\n",
    "\n",
    "When comparing two treatments, we usually use stars to represent the p-value that results from a (well-chosen) statistical test.  \"Informally, a p-value is the probability under a specified statistical model that a statistical summary of the data (e.g., the sample mean difference between two compared groups) would be equal to or more extreme than its observed value\" (https://amstat.tandfonline.com/doi/full/10.1080/00031305.2016.1154108#_i27)\n",
    "\n",
    "P-values do not measure the probability that the studied hypothesis is true, or the probability that the data were produced by random chance alone.\n",
    "\n",
    "\n",
    "There are *parametric* statistical tests (which assumes that the distribution of the data is known) and *non-parametric* tests (which do not assume that the distribution is known). The classic Student's t-test (http://en.wikipedia.org/wiki/Student's_t-test) is a parametric test that only works when the data are normally distributed. *As explained before, data are rarely normally distributed when we compare algorithms* (but this is often the case in biology or in physics). A good non-parametric alternative to the t-test is the **Mann-Whitney U-test** (http://en.wikipedia.org/wiki/Mann%E2%80%93Whitney_U_test) (called ranksum in matlab, or Wilcoxon test, or Man-Whitney-Wilcoxon).\n",
    "\n",
    "In python, there is an implementation in Scipy (a scientific package on top of numpy; if you don't have it yet: sudo pip install scipy or apt-get install it):\n"
   ]
  },
  {
   "cell_type": "code",
   "execution_count": 43,
   "metadata": {},
   "outputs": [
    {
     "name": "stdout",
     "output_type": "stream",
     "text": [
      "Requirement already satisfied: scipy in /Users/jmouret/mambaforge/envs/matplotlib/lib/python3.10/site-packages (1.7.3)\n",
      "Requirement already satisfied: numpy<1.23.0,>=1.16.5 in /Users/jmouret/mambaforge/envs/matplotlib/lib/python3.10/site-packages (from scipy) (1.22.0)\n"
     ]
    }
   ],
   "source": [
    "!pip install scipy"
   ]
  },
  {
   "cell_type": "code",
   "execution_count": 50,
   "metadata": {},
   "outputs": [
    {
     "name": "stdout",
     "output_type": "stream",
     "text": [
      "9.918628618948002e-11\n"
     ]
    }
   ],
   "source": [
    "import scipy.stats\n",
    "_, p = scipy.stats.mannwhitneyu(data_a, data_b)\n",
    "print(p)"
   ]
  },
  {
   "cell_type": "markdown",
   "metadata": {},
   "source": [
    "<img src=\"https://imgs.xkcd.com/comics/p_values_2x.png\" width=\"300px\"/>"
   ]
  },
  {
   "cell_type": "markdown",
   "metadata": {},
   "source": [
    "### Why are p-values dangerous?\n",
    "P-values compare the distributions... but not the effect size! \n",
    "\n",
    "A small p-values says that the two set of numbers are statistically different, but not that this difference is meaningful for your scientific experiment. In addition, be careful about all the uncertainty implied by the choice of the hyperparameters and the \"fishing experiments\".\n",
    "\n",
    "In many cases, you can make the p-value smaller by adding replicates; but if you need 1 million replicates to see the difference between algorithm A and algorithm B, is it really interesting?\n",
    "\n",
    "See: https://amstat.tandfonline.com/doi/full/10.1080/00031305.2016.1154108#_i27\n",
    "\n",
    "<img src=\"https://imgs.xkcd.com/comics/significant.png\" width=\"60%\">"
   ]
  },
  {
   "cell_type": "code",
   "execution_count": 51,
   "metadata": {},
   "outputs": [],
   "source": [
    "def stars(p):\n",
    "    if p < 0.0001:\n",
    "        return \"****\"\n",
    "    elif (p < 0.001):\n",
    "        return \"***\"\n",
    "    elif (p < 0.01):\n",
    "        return \"**\"\n",
    "    elif (p < 0.05):\n",
    "        return \"*\"\n",
    "    else:\n",
    "        return \"-\"\n"
   ]
  },
  {
   "cell_type": "code",
   "execution_count": 65,
   "metadata": {},
   "outputs": [
    {
     "data": {
      "text/plain": [
       "Text(1.5, 750, '****')"
      ]
     },
     "execution_count": 65,
     "metadata": {},
     "output_type": "execute_result"
    },
    {
     "data": {
      "image/png": "[encoded data removed]",
      "text/plain": [
       "<Figure size 432x288 with 1 Axes>"
      ]
     },
     "metadata": {
      "needs_background": "light"
     },
     "output_type": "display_data"
    }
   ],
   "source": [
    "import matplotlib as mpl\n",
    "\n",
    "\n",
    "from palettable.colorbrewer.qualitative import Set2_7\n",
    "colors = Set2_7.mpl_colors\n",
    "\n",
    "params = {\n",
    "'axes.labelsize': 16,\n",
    "'legend.fontsize': 16,\n",
    "'xtick.labelsize': 16,\n",
    "'ytick.labelsize': 16,\n",
    "}\n",
    "mpl.rcParams.update(params)\n",
    "\n",
    "\n",
    "fig = plt.figure(figsize=(6, 4))\n",
    "ax = fig.add_subplot(1,1,1)\n",
    "bp = ax.boxplot([data_a, data_b], patch_artist=True)\n",
    "\n",
    "# remove the frames \n",
    "ax.spines['top'].set_visible(False)\n",
    "ax.spines['right'].set_visible(False)\n",
    "ax.spines['left'].set_visible(False)\n",
    "ax.spines['bottom'].set_linewidth(2)\n",
    "#ax.spines['bottom'].set_visible(False)\n",
    "\n",
    "ax.get_xaxis().tick_bottom()\n",
    "ax.get_yaxis().tick_left()\n",
    "ax.tick_params(axis='x', length=0)\n",
    "ax.tick_params(axis='y', length=0)\n",
    "\n",
    "# add a grid\n",
    "\n",
    "ax.grid(axis='y', color=\"0.9\", linestyle='-', linewidth=1)\n",
    "ax.set_axisbelow(True)\n",
    "\n",
    "c=colors[0]\n",
    "for w in bp['whiskers']:\n",
    "    w.set_color(c)\n",
    "    w.set_linewidth(3)\n",
    "for patch in bp['boxes']:\n",
    "    patch.set_facecolor(c)\n",
    "    patch.set_color(c)\n",
    "for median in bp['medians']:\n",
    "    median.set(color ='black',\n",
    "                linewidth = 2)\n",
    "\n",
    "ax.set_xticklabels(['A', 'B'])\n",
    "ax.set_ylim((-5000, 1000))\n",
    "_, p = scipy.stats.mannwhitneyu(data_a, data_b)\n",
    "y_max = np.max(np.concatenate((data_a, data_b)))\n",
    "ax.annotate(\"\", xy=(1, y_max), xycoords='data',\n",
    "        xytext=(2, y_max), textcoords='data',\n",
    "        arrowprops=dict(arrowstyle=\"-\", ec='#bbbbbb',\n",
    "                        connectionstyle=\"bar,fraction=0.15\"))\n",
    "ax.text(1.5, 750, stars(p), horizontalalignment='center', verticalalignment='center')\n",
    "\n"
   ]
  },
  {
   "cell_type": "code",
   "execution_count": null,
   "metadata": {},
   "outputs": [],
   "source": []
  }
 ],
 "metadata": {
  "kernelspec": {
   "display_name": "Python 3.10.4 ('matplotlib')",
   "language": "python",
   "name": "python3"
  },
  "language_info": {
   "codemirror_mode": {
    "name": "ipython",
    "version": 3
   },
   "file_extension": ".py",
   "mimetype": "text/x-python",
   "name": "python",
   "nbconvert_exporter": "python",
   "pygments_lexer": "ipython3",
   "version": "3.10.4"
  },
  "orig_nbformat": 4,
  "vscode": {
   "interpreter": {
    "hash": "1e02c40b056f4c06cbeedbaa9e141b948e222bbb153cd5a01f526155b70af844"
   }
  }
 },
 "nbformat": 4,
 "nbformat_minor": 2
}
